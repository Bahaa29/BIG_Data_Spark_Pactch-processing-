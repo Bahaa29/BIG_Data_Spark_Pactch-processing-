{
  "nbformat": 4,
  "nbformat_minor": 0,
  "metadata": {
    "colab": {
      "name": "lastvesion.ipynb",
      "provenance": []
    },
    "kernelspec": {
      "name": "python3",
      "display_name": "Python 3"
    },
    "language_info": {
      "name": "python"
    }
  },
  "cells": [
    {
      "cell_type": "code",
      "execution_count": 1,
      "metadata": {
        "colab": {
          "base_uri": "https://localhost:8080/"
        },
        "id": "n8hMT4QkrzZH",
        "outputId": "0cac4b62-a474-4396-a78e-a4bccf2f922f"
      },
      "outputs": [
        {
          "output_type": "stream",
          "name": "stdout",
          "text": [
            "Mounted at /content/drive\n"
          ]
        }
      ],
      "source": [
        "from google.colab import drive\n",
        "drive.mount('/content/drive')"
      ]
    },
    {
      "cell_type": "code",
      "source": [
        "!unzip \"/content/drive/MyDrive/spark/pagecounts-20160101-000000_parsed.out.zip\""
      ],
      "metadata": {
        "colab": {
          "base_uri": "https://localhost:8080/"
        },
        "id": "XpRAzXf1r8pA",
        "outputId": "3c561a78-4361-46a7-cd6e-9f84fa03f28f"
      },
      "execution_count": 2,
      "outputs": [
        {
          "output_type": "stream",
          "name": "stdout",
          "text": [
            "Archive:  /content/drive/MyDrive/spark/pagecounts-20160101-000000_parsed.out.zip\n",
            "  inflating: pagecounts-20160101-000000_parsed.out  \n"
          ]
        }
      ]
    },
    {
      "cell_type": "code",
      "source": [
        "!apt-get install openjdk-8-jdk-headless -qq > /dev/null"
      ],
      "metadata": {
        "id": "lMRXq6QxsD1D"
      },
      "execution_count": 3,
      "outputs": []
    },
    {
      "cell_type": "code",
      "source": [
        "!wget -q https://archive.apache.org/dist/spark/spark-3.0.0/spark-3.0.0-bin-hadoop3.2.tgz"
      ],
      "metadata": {
        "id": "rnT0Ib2NtJGb"
      },
      "execution_count": 4,
      "outputs": []
    },
    {
      "cell_type": "code",
      "source": [
        "!tar xf spark-3.0.0-bin-hadoop3.2.tgz"
      ],
      "metadata": {
        "id": "qSBSn8xltPUb"
      },
      "execution_count": 6,
      "outputs": []
    },
    {
      "cell_type": "code",
      "source": [
        "import os\n",
        "os.environ[\"JAVA_HOME\"] = \"/usr/lib/jvm/java-8-openjdk-amd64\"\n",
        "os.environ[\"SPARK_HOME\"] = \"/content/spark-3.0.0-bin-hadoop3.2\""
      ],
      "metadata": {
        "id": "lieCb6ihtTeL"
      },
      "execution_count": 5,
      "outputs": []
    },
    {
      "cell_type": "code",
      "source": [
        "!pip install -q findspark"
      ],
      "metadata": {
        "id": "jlyNMD_dtWob"
      },
      "execution_count": 7,
      "outputs": []
    },
    {
      "cell_type": "code",
      "source": [
        "import findspark\n",
        "findspark.init()\n",
        "from pyspark.sql import SparkSession\n",
        "\n",
        "spark = SparkSession.builder.master(\"local[*]\").getOrCreate()"
      ],
      "metadata": {
        "id": "lvgMv4fUtaE8"
      },
      "execution_count": 8,
      "outputs": []
    },
    {
      "cell_type": "code",
      "source": [
        "from pyspark import SparkConf \n",
        "from pyspark.context import SparkContext \n",
        "\n",
        "sc = SparkContext.getOrCreate(SparkConf().setMaster(\"local[*]\"))"
      ],
      "metadata": {
        "id": "0BGZCucBteAg"
      },
      "execution_count": 9,
      "outputs": []
    },
    {
      "cell_type": "markdown",
      "source": [
        "**problem** **one** (we have two version for it ⚛)"
      ],
      "metadata": {
        "id": "nMo7ce6ewAXb"
      }
    },
    {
      "cell_type": "code",
      "source": [
        "def parse(line):\n",
        "  cols=line.split(' ')\n",
        "  codeCol=cols[0]\n",
        "  pagetitle=cols[1]\n",
        "  pageHits=cols[2]\n",
        "  pageSize=cols[3]\n",
        "  return(codeCol,pagetitle,pageHits,pageSize)\n",
        "\n",
        "rdd=sc.textFile(\"/content/pagecounts-20160101-000000_parsed.out\",minPartitions=0).map(parse).take(10)\n",
        "#rdd=sc.parallelize(rdd).saveAsTextFile('oneV1.Txt')\n",
        "rdd"
      ],
      "metadata": {
        "id": "AxamZpI3wVmI",
        "colab": {
          "base_uri": "https://localhost:8080/"
        },
        "outputId": "4644834e-806f-478b-e630-b72dd5c1daa0"
      },
      "execution_count": 10,
      "outputs": [
        {
          "output_type": "execute_result",
          "data": {
            "text/plain": [
              "[('aa', '271_a.C', '1', '4675'),\n",
              " ('aa', 'Category:User_th', '1', '4770'),\n",
              " ('aa', 'Chiron_Elias_Krase', '1', '4694'),\n",
              " ('aa', 'Dassault_rafaele', '2', '9372'),\n",
              " ('aa', 'E.Desv', '1', '4662'),\n",
              " ('aa', 'File:Wiktionary-logo-en.png', '1', '10752'),\n",
              " ('aa', 'Indonesian_Wikipedia', '1', '4679'),\n",
              " ('aa', 'Main_Page', '5', '266946'),\n",
              " ('aa', 'Requests_for_new_languages/Wikipedia_Banyumasan', '1', '4733'),\n",
              " ('aa', 'Special:Contributions/203.144.160.245', '1', '5812')]"
            ]
          },
          "metadata": {},
          "execution_count": 10
        }
      ]
    },
    {
      "cell_type": "code",
      "source": [
        "if __name__ == \"__main__\":\n",
        " data = sc.textFile(\"/content/pagecounts-20160101-000000_parsed.out\",minPartitions=0)\n",
        " sc.parallelize(data.take(10)).saveAsTextFile('one.txt')"
      ],
      "metadata": {
        "id": "5TuBt17bth8N"
      },
      "execution_count": null,
      "outputs": []
    },
    {
      "cell_type": "markdown",
      "source": [
        "**Problem two**"
      ],
      "metadata": {
        "id": "M7EClt2fy2yS"
      }
    },
    {
      "cell_type": "code",
      "source": [
        "def parseLine(line):\n",
        "  cols = line.split(\" \")\n",
        "  pagesize=float(cols[3])\n",
        "  v=0\n",
        "  return (v,pagesize)\n",
        "\n",
        "data = sc.textFile(\"/content/pagecounts-20160101-000000_parsed.out\",minPartitions=0)\n",
        "pagesize=data.map(parseLine)\n",
        "\n",
        "maxvalue = pagesize.reduceByKey(lambda x , y: max(x,y))\n",
        "minvalue=pagesize.reduceByKey(lambda x , y: min(x,y))\n",
        "\n",
        "minvalue.collect()\n",
        "#maxvalue.collect()"
      ],
      "metadata": {
        "colab": {
          "base_uri": "https://localhost:8080/"
        },
        "id": "kcw1Ycb-y_dg",
        "outputId": "4c92862a-ef53-44c5-c18d-56f55f710bf6"
      },
      "execution_count": null,
      "outputs": [
        {
          "output_type": "execute_result",
          "data": {
            "text/plain": [
              "[(0, 0.0)]"
            ]
          },
          "metadata": {},
          "execution_count": 24
        }
      ]
    },
    {
      "cell_type": "code",
      "source": [
        "def parseLine(line):\n",
        " cols = line.split(\" \")\n",
        " pagesize=float(cols[3])\n",
        " return (pagesize)\n",
        "pagesize=data.map(parseLine).mean()\n",
        "pagesize"
      ],
      "metadata": {
        "colab": {
          "base_uri": "https://localhost:8080/"
        },
        "id": "feMl3nA8u76R",
        "outputId": "c1283af7-24a4-4f33-895b-be9c6d0e4c2a"
      },
      "execution_count": null,
      "outputs": [
        {
          "output_type": "execute_result",
          "data": {
            "text/plain": [
              "132239.5695744666"
            ]
          },
          "metadata": {},
          "execution_count": 13
        }
      ]
    },
    {
      "cell_type": "markdown",
      "source": [
        "**Problem three**"
      ],
      "metadata": {
        "id": "aEvsWDsov-wu"
      }
    },
    {
      "cell_type": "code",
      "source": [
        "def parseLine(line):\n",
        "  cols = line.split(\" \")\n",
        "  codeCol=cols[0]\n",
        "  pagetitle=cols[1]\n",
        "  return (codeCol,pagetitle)\n",
        "pagesize=data.map(parseLine)\n",
        "result=pagesize.filter(lambda x : (x[1].startswith('The')) & ('en' != x[0]))\n",
        "result.count()"
      ],
      "metadata": {
        "colab": {
          "base_uri": "https://localhost:8080/"
        },
        "id": "-RzePToZwIf0",
        "outputId": "44587724-9de2-4234-8917-a58b2fb36083"
      },
      "execution_count": null,
      "outputs": [
        {
          "output_type": "execute_result",
          "data": {
            "text/plain": [
              "10292"
            ]
          },
          "metadata": {},
          "execution_count": 16
        }
      ]
    },
    {
      "cell_type": "markdown",
      "source": [
        "**problem 5**"
      ],
      "metadata": {
        "id": "KD-dPBPFxMwb"
      }
    },
    {
      "cell_type": "code",
      "source": [
        "def parseLine(line):\n",
        " cols = line.split(\" \")\n",
        " pagetitle=cols[1]\n",
        " return (pagetitle)\n",
        "pagesize=data.map(parseLine)\n",
        "values=pagesize.map(lambda x: (x,1)).groupByKey()\n",
        "result=values.mapValues(sum).map(lambda x:(x[0],x[1])).sortByKey(False).take(1)\n",
        "print(result)"
      ],
      "metadata": {
        "colab": {
          "base_uri": "https://localhost:8080/"
        },
        "id": "9UHdZggwxPa4",
        "outputId": "22e080b4-cacc-45ff-89a1-a3c0c9909ce8"
      },
      "execution_count": null,
      "outputs": [
        {
          "output_type": "stream",
          "name": "stdout",
          "text": [
            "[(118, 'water')]\n"
          ]
        }
      ]
    },
    {
      "cell_type": "markdown",
      "source": [
        "**problem 4**"
      ],
      "metadata": {
        "id": "TwAf9mhY0S1z"
      }
    },
    {
      "cell_type": "code",
      "source": [
        "import re\n",
        "def parse1(line):\n",
        " cols = line.split(\" \")\n",
        " pagetitle=cols[1]\n",
        " result = re.sub(r'[^a-zA-Z_]','', pagetitle).lower()\n",
        " return result\n",
        "\n",
        "def parse2(line):\n",
        " cols = line.split(\"_\")\n",
        " return cols\n",
        "pagetitle=data.map(parse1)\n",
        "formated=pagetitle.map(parse2)\n",
        "result=formated.flatMap(lambda x:x).distinct().count()bahaa_123\n",
        "print(result)"
      ],
      "metadata": {
        "colab": {
          "base_uri": "https://localhost:8080/"
        },
        "id": "BJ64xZR-0VJ7",
        "outputId": "756712f8-67c8-4746-96a7-124ccb80e76a"
      },
      "execution_count": null,
      "outputs": [
        {
          "output_type": "stream",
          "name": "stdout",
          "text": [
            "1354511\n"
          ]
        }
      ]
    },
    {
      "cell_type": "markdown",
      "source": [
        ""
      ],
      "metadata": {
        "id": "b0Tbgw8P2Cix"
      }
    }
  ]
}